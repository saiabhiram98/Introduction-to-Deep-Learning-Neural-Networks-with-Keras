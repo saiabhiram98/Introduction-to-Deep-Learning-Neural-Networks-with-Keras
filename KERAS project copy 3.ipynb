{
    "cells": [
        {
            "cell_type": "code",
            "execution_count": 1,
            "metadata": {},
            "outputs": [],
            "source": "import numpy as np\nimport pandas as pd"
        },
        {
            "cell_type": "code",
            "execution_count": 2,
            "metadata": {},
            "outputs": [
                {
                    "data": {
                        "text/html": "<div>\n<style scoped>\n    .dataframe tbody tr th:only-of-type {\n        vertical-align: middle;\n    }\n\n    .dataframe tbody tr th {\n        vertical-align: top;\n    }\n\n    .dataframe thead th {\n        text-align: right;\n    }\n</style>\n<table border=\"1\" class=\"dataframe\">\n  <thead>\n    <tr style=\"text-align: right;\">\n      <th></th>\n      <th>Cement</th>\n      <th>Blast Furnace Slag</th>\n      <th>Fly Ash</th>\n      <th>Water</th>\n      <th>Superplasticizer</th>\n      <th>Coarse Aggregate</th>\n      <th>Fine Aggregate</th>\n      <th>Age</th>\n      <th>Strength</th>\n    </tr>\n  </thead>\n  <tbody>\n    <tr>\n      <th>0</th>\n      <td>540.0</td>\n      <td>0.0</td>\n      <td>0.0</td>\n      <td>162.0</td>\n      <td>2.5</td>\n      <td>1040.0</td>\n      <td>676.0</td>\n      <td>28</td>\n      <td>79.99</td>\n    </tr>\n    <tr>\n      <th>1</th>\n      <td>540.0</td>\n      <td>0.0</td>\n      <td>0.0</td>\n      <td>162.0</td>\n      <td>2.5</td>\n      <td>1055.0</td>\n      <td>676.0</td>\n      <td>28</td>\n      <td>61.89</td>\n    </tr>\n    <tr>\n      <th>2</th>\n      <td>332.5</td>\n      <td>142.5</td>\n      <td>0.0</td>\n      <td>228.0</td>\n      <td>0.0</td>\n      <td>932.0</td>\n      <td>594.0</td>\n      <td>270</td>\n      <td>40.27</td>\n    </tr>\n    <tr>\n      <th>3</th>\n      <td>332.5</td>\n      <td>142.5</td>\n      <td>0.0</td>\n      <td>228.0</td>\n      <td>0.0</td>\n      <td>932.0</td>\n      <td>594.0</td>\n      <td>365</td>\n      <td>41.05</td>\n    </tr>\n    <tr>\n      <th>4</th>\n      <td>198.6</td>\n      <td>132.4</td>\n      <td>0.0</td>\n      <td>192.0</td>\n      <td>0.0</td>\n      <td>978.4</td>\n      <td>825.5</td>\n      <td>360</td>\n      <td>44.30</td>\n    </tr>\n  </tbody>\n</table>\n</div>",
                        "text/plain": "   Cement  Blast Furnace Slag  Fly Ash  Water  Superplasticizer  \\\n0   540.0                 0.0      0.0  162.0               2.5   \n1   540.0                 0.0      0.0  162.0               2.5   \n2   332.5               142.5      0.0  228.0               0.0   \n3   332.5               142.5      0.0  228.0               0.0   \n4   198.6               132.4      0.0  192.0               0.0   \n\n   Coarse Aggregate  Fine Aggregate  Age  Strength  \n0            1040.0           676.0   28     79.99  \n1            1055.0           676.0   28     61.89  \n2             932.0           594.0  270     40.27  \n3             932.0           594.0  365     41.05  \n4             978.4           825.5  360     44.30  "
                    },
                    "execution_count": 2,
                    "metadata": {},
                    "output_type": "execute_result"
                }
            ],
            "source": "concrete  = pd.read_csv(\"https://cocl.us/concrete_data\")\nconcrete.head()"
        },
        {
            "cell_type": "code",
            "execution_count": 3,
            "metadata": {},
            "outputs": [],
            "source": "concrete_columns  = concrete.columns\n\nX = concrete[concrete_columns[concrete_columns != 'Strength']] \ny = concrete['Strength']\n"
        },
        {
            "cell_type": "code",
            "execution_count": 4,
            "metadata": {},
            "outputs": [],
            "source": "X_norm = (X - X.mean())/ X.std()\nX_norm.head()\ncols= X_norm.shape[1]"
        },
        {
            "cell_type": "code",
            "execution_count": 5,
            "metadata": {},
            "outputs": [
                {
                    "name": "stderr",
                    "output_type": "stream",
                    "text": "Using TensorFlow backend.\n"
                }
            ],
            "source": "import keras"
        },
        {
            "cell_type": "code",
            "execution_count": 6,
            "metadata": {},
            "outputs": [],
            "source": "from keras.models import Sequential\nfrom keras.layers import Dense\ndef neuralnetwork():\n    model = Sequential()\n    model.add(Dense(10, activation='relu', input_shape = (cols,)))\n    model.add(Dense(10, activation='relu', input_shape = (cols,)))\n    model.add(Dense(10, activation='relu', input_shape = (cols,)))\n    model.add(Dense(1))\n    \n    model.compile(optimizer = 'adam', loss = 'mean_squared_error')\n    return model\n    "
        },
        {
            "cell_type": "code",
            "execution_count": 7,
            "metadata": {},
            "outputs": [],
            "source": "import sklearn\nfrom sklearn.model_selection import train_test_split"
        },
        {
            "cell_type": "code",
            "execution_count": 8,
            "metadata": {},
            "outputs": [],
            "source": "rng = np.random.RandomState(0)\nX_train, X_test, y_train, y_test = train_test_split(X_norm, y, test_size = 0.3, random_state = rng)"
        },
        {
            "cell_type": "code",
            "execution_count": 10,
            "metadata": {},
            "outputs": [
                {
                    "name": "stdout",
                    "output_type": "stream",
                    "text": "Epoch 1/50\n - 5s - loss: 1560.5659\nEpoch 2/50\n - 1s - loss: 1540.4404\nEpoch 3/50\n - 1s - loss: 1515.4351\nEpoch 4/50\n - 1s - loss: 1478.1453\nEpoch 5/50\n - 1s - loss: 1417.3632\nEpoch 6/50\n - 3s - loss: 1309.2224\nEpoch 7/50\n - 6s - loss: 1118.9281\nEpoch 8/50\n - 1s - loss: 831.3328\nEpoch 9/50\n - 1s - loss: 518.8189\nEpoch 10/50\n - 1s - loss: 321.2907\nEpoch 11/50\n - 1s - loss: 255.3037\nEpoch 12/50\n - 1s - loss: 232.3208\nEpoch 13/50\n - 9s - loss: 220.0010\nEpoch 14/50\n - 1s - loss: 210.4595\nEpoch 15/50\n - 1s - loss: 203.5849\nEpoch 16/50\n - 1s - loss: 197.2442\nEpoch 17/50\n - 1s - loss: 191.8715\nEpoch 18/50\n - 1s - loss: 187.1344\nEpoch 19/50\n - 1s - loss: 183.2919\nEpoch 20/50\n - 1s - loss: 179.1783\nEpoch 21/50\n - 8s - loss: 175.8437\nEpoch 22/50\n - 1s - loss: 172.9739\nEpoch 23/50\n - 1s - loss: 169.6489\nEpoch 24/50\n - 1s - loss: 166.9552\nEpoch 25/50\n - 1s - loss: 164.4891\nEpoch 26/50\n - 1s - loss: 162.1390\nEpoch 27/50\n - 5s - loss: 160.4944\nEpoch 28/50\n - 4s - loss: 157.9928\nEpoch 29/50\n - 1s - loss: 157.0535\nEpoch 30/50\n - 1s - loss: 154.9366\nEpoch 31/50\n - 1s - loss: 153.2657\nEpoch 32/50\n - 1s - loss: 151.5845\nEpoch 33/50\n - 1s - loss: 150.2750\nEpoch 34/50\n - 5s - loss: 148.8494\nEpoch 35/50\n - 5s - loss: 147.5259\nEpoch 36/50\n - 1s - loss: 146.0931\nEpoch 37/50\n - 1s - loss: 144.5671\nEpoch 38/50\n - 1s - loss: 143.5880\nEpoch 39/50\n - 1s - loss: 142.6621\nEpoch 40/50\n - 1s - loss: 141.0947\nEpoch 41/50\n - 7s - loss: 139.7863\nEpoch 42/50\n - 4s - loss: 138.6257\nEpoch 43/50\n - 1s - loss: 137.6671\nEpoch 44/50\n - 1s - loss: 136.4893\nEpoch 45/50\n - 1s - loss: 135.8808\nEpoch 46/50\n - 1s - loss: 134.7756\nEpoch 47/50\n - 1s - loss: 134.1803\nEpoch 48/50\n - 1s - loss: 132.8354\nEpoch 49/50\n - 1s - loss: 131.9977\nEpoch 50/50\n - 7s - loss: 131.2293\n"
                },
                {
                    "data": {
                        "text/plain": "<keras.callbacks.History at 0x7f31e18b3a58>"
                    },
                    "execution_count": 10,
                    "metadata": {},
                    "output_type": "execute_result"
                }
            ],
            "source": "model = neuralnetwork()\n\nmodel.fit(X_train, y_train, epochs = 50, verbose = 2)\n"
        },
        {
            "cell_type": "code",
            "execution_count": 11,
            "metadata": {},
            "outputs": [
                {
                    "name": "stdout",
                    "output_type": "stream",
                    "text": "309/309 [==============================] - 1s 2ms/step\n113.81377761495152\n"
                }
            ],
            "source": "score = model.evaluate(X_test, y_test, verbose = 1)\ny_pred = model.predict(X_test)\nprint(score)"
        },
        {
            "cell_type": "code",
            "execution_count": 12,
            "metadata": {},
            "outputs": [],
            "source": "from sklearn.metrics import mean_squared_error"
        },
        {
            "cell_type": "code",
            "execution_count": 13,
            "metadata": {},
            "outputs": [
                {
                    "name": "stdout",
                    "output_type": "stream",
                    "text": "113.8137772163157 0.0\n"
                }
            ],
            "source": "MSR = mean_squared_error(y_test, y_pred)\nmean = np.mean(MSR)\nstd_deviation = np.std(MSR)\nprint(mean, std_deviation)"
        },
        {
            "cell_type": "code",
            "execution_count": 14,
            "metadata": {},
            "outputs": [
                {
                    "name": "stdout",
                    "output_type": "stream",
                    "text": "309/309 [==============================] - 0s 950us/step\n309/309 [==============================] - 0s 1ms/step\n309/309 [==============================] - 0s 1ms/step\n309/309 [==============================] - 0s 1ms/step\n309/309 [==============================] - 1s 2ms/step\n309/309 [==============================] - 0s 1ms/step\n309/309 [==============================] - 0s 1ms/step\n309/309 [==============================] - 0s 1ms/step\n309/309 [==============================] - 0s 2ms/step\n309/309 [==============================] - 0s 1ms/step\n309/309 [==============================] - 0s 1ms/step\n309/309 [==============================] - 0s 1ms/step\n309/309 [==============================] - 0s 1ms/step\n309/309 [==============================] - 0s 1ms/step\n309/309 [==============================] - 0s 1ms/step\n309/309 [==============================] - 0s 1ms/step\n309/309 [==============================] - 0s 1ms/step\n309/309 [==============================] - 0s 1ms/step\n309/309 [==============================] - 0s 1ms/step\n309/309 [==============================] - 0s 1ms/step\n309/309 [==============================] - 0s 1ms/step\n309/309 [==============================] - 0s 1ms/step\n309/309 [==============================] - 3s 8ms/step\n309/309 [==============================] - 0s 911us/step\n309/309 [==============================] - 5s 17ms/step\n309/309 [==============================] - 0s 903us/step\n309/309 [==============================] - 0s 1ms/step\n309/309 [==============================] - 0s 1ms/step\n309/309 [==============================] - 0s 905us/step\n309/309 [==============================] - 0s 1ms/step\n309/309 [==============================] - 0s 970us/step\n309/309 [==============================] - 0s 1ms/step\n309/309 [==============================] - 0s 1ms/step\n309/309 [==============================] - 0s 1ms/step\n309/309 [==============================] - 0s 1ms/step\n309/309 [==============================] - 0s 562us/step\n309/309 [==============================] - 0s 505us/step\n309/309 [==============================] - 0s 466us/step\n309/309 [==============================] - 0s 468us/step\n309/309 [==============================] - 0s 511us/step\n309/309 [==============================] - 0s 1ms/step\n309/309 [==============================] - 2s 7ms/step\n309/309 [==============================] - 0s 648us/step\n309/309 [==============================] - 0s 449us/step\n309/309 [==============================] - 0s 450us/step\n309/309 [==============================] - 0s 440us/step\n309/309 [==============================] - 0s 630us/step\n309/309 [==============================] - 2s 7ms/step\n309/309 [==============================] - 0s 451us/step\n309/309 [==============================] - 0s 505us/step\nAfter running the programs for 50 errors :\nmean =  30.458547509698956\nstandard deviation 13.063664285939671\n"
                }
            ],
            "source": "n = 50\nMSE_list = []\nfor i in range(n):\n    X_train, X_test, y_train, y_test = train_test_split(X_norm, y, test_size = 0.3, random_state = rng)\n    \n    model.fit(X_train, y_train, epochs = 50, verbose = 0)\n    MSE2 = model.evaluate(X_test, y_test, verbose = 1)\n    y_pred = model.predict(X_test)\n    MSR2 = mean_squared_error(y_test,y_pred)\n    MSE_list.append(MSR2)\n\nMSE = np.array(MSE_list)\nmean = np.mean(MSE)\nstd_deviation = np.std(MSE)\nprint(\"After running the programs for 50 errors :\")\nprint(\"mean = \", mean)\nprint(\"standard deviation\", std_deviation)\n    "
        },
        {
            "cell_type": "code",
            "execution_count": null,
            "metadata": {},
            "outputs": [],
            "source": ""
        }
    ],
    "metadata": {
        "kernelspec": {
            "display_name": "Python 3.6",
            "language": "python",
            "name": "python3"
        },
        "language_info": {
            "codemirror_mode": {
                "name": "ipython",
                "version": 3
            },
            "file_extension": ".py",
            "mimetype": "text/x-python",
            "name": "python",
            "nbconvert_exporter": "python",
            "pygments_lexer": "ipython3",
            "version": "3.6.9"
        }
    },
    "nbformat": 4,
    "nbformat_minor": 1
}