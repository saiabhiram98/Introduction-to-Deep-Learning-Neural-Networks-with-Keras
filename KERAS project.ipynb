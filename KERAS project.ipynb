{
    "cells": [
        {
            "cell_type": "code",
            "execution_count": 1,
            "metadata": {},
            "outputs": [],
            "source": "import numpy as np\nimport pandas as pd"
        },
        {
            "cell_type": "code",
            "execution_count": 2,
            "metadata": {},
            "outputs": [
                {
                    "data": {
                        "text/html": "<div>\n<style scoped>\n    .dataframe tbody tr th:only-of-type {\n        vertical-align: middle;\n    }\n\n    .dataframe tbody tr th {\n        vertical-align: top;\n    }\n\n    .dataframe thead th {\n        text-align: right;\n    }\n</style>\n<table border=\"1\" class=\"dataframe\">\n  <thead>\n    <tr style=\"text-align: right;\">\n      <th></th>\n      <th>Cement</th>\n      <th>Blast Furnace Slag</th>\n      <th>Fly Ash</th>\n      <th>Water</th>\n      <th>Superplasticizer</th>\n      <th>Coarse Aggregate</th>\n      <th>Fine Aggregate</th>\n      <th>Age</th>\n      <th>Strength</th>\n    </tr>\n  </thead>\n  <tbody>\n    <tr>\n      <th>0</th>\n      <td>540.0</td>\n      <td>0.0</td>\n      <td>0.0</td>\n      <td>162.0</td>\n      <td>2.5</td>\n      <td>1040.0</td>\n      <td>676.0</td>\n      <td>28</td>\n      <td>79.99</td>\n    </tr>\n    <tr>\n      <th>1</th>\n      <td>540.0</td>\n      <td>0.0</td>\n      <td>0.0</td>\n      <td>162.0</td>\n      <td>2.5</td>\n      <td>1055.0</td>\n      <td>676.0</td>\n      <td>28</td>\n      <td>61.89</td>\n    </tr>\n    <tr>\n      <th>2</th>\n      <td>332.5</td>\n      <td>142.5</td>\n      <td>0.0</td>\n      <td>228.0</td>\n      <td>0.0</td>\n      <td>932.0</td>\n      <td>594.0</td>\n      <td>270</td>\n      <td>40.27</td>\n    </tr>\n    <tr>\n      <th>3</th>\n      <td>332.5</td>\n      <td>142.5</td>\n      <td>0.0</td>\n      <td>228.0</td>\n      <td>0.0</td>\n      <td>932.0</td>\n      <td>594.0</td>\n      <td>365</td>\n      <td>41.05</td>\n    </tr>\n    <tr>\n      <th>4</th>\n      <td>198.6</td>\n      <td>132.4</td>\n      <td>0.0</td>\n      <td>192.0</td>\n      <td>0.0</td>\n      <td>978.4</td>\n      <td>825.5</td>\n      <td>360</td>\n      <td>44.30</td>\n    </tr>\n  </tbody>\n</table>\n</div>",
                        "text/plain": "   Cement  Blast Furnace Slag  Fly Ash  Water  Superplasticizer  \\\n0   540.0                 0.0      0.0  162.0               2.5   \n1   540.0                 0.0      0.0  162.0               2.5   \n2   332.5               142.5      0.0  228.0               0.0   \n3   332.5               142.5      0.0  228.0               0.0   \n4   198.6               132.4      0.0  192.0               0.0   \n\n   Coarse Aggregate  Fine Aggregate  Age  Strength  \n0            1040.0           676.0   28     79.99  \n1            1055.0           676.0   28     61.89  \n2             932.0           594.0  270     40.27  \n3             932.0           594.0  365     41.05  \n4             978.4           825.5  360     44.30  "
                    },
                    "execution_count": 2,
                    "metadata": {},
                    "output_type": "execute_result"
                }
            ],
            "source": "concrete  = pd.read_csv(\"https://cocl.us/concrete_data\")\nconcrete.head()"
        },
        {
            "cell_type": "code",
            "execution_count": 3,
            "metadata": {},
            "outputs": [],
            "source": "concrete_columns  = concrete.columns\n\nX = concrete[concrete_columns[concrete_columns != 'Strength']] \ny = concrete['Strength']\n"
        },
        {
            "cell_type": "code",
            "execution_count": 4,
            "metadata": {},
            "outputs": [],
            "source": "cols= X.shape[1]"
        },
        {
            "cell_type": "code",
            "execution_count": 5,
            "metadata": {},
            "outputs": [
                {
                    "name": "stderr",
                    "output_type": "stream",
                    "text": "Using TensorFlow backend.\n"
                }
            ],
            "source": "import keras"
        },
        {
            "cell_type": "code",
            "execution_count": 6,
            "metadata": {},
            "outputs": [],
            "source": "from keras.models import Sequential\nfrom keras.layers import Dense\ndef neuralnetwork():\n    model = Sequential()\n    model.add(Dense(10, activation='relu', input_shape = (cols,)))\n    model.add(Dense(1))\n    \n    model.compile(optimizer = 'adam', loss = 'mean_squared_error')\n    return model\n    "
        },
        {
            "cell_type": "code",
            "execution_count": 7,
            "metadata": {},
            "outputs": [],
            "source": "import sklearn\nfrom sklearn.model_selection import train_test_split"
        },
        {
            "cell_type": "code",
            "execution_count": 8,
            "metadata": {},
            "outputs": [],
            "source": "rng = np.random.RandomState(0)\nX_train, X_test, y_train, y_test = train_test_split(X, y, test_size = 0.3, random_state = rng)"
        },
        {
            "cell_type": "code",
            "execution_count": 10,
            "metadata": {},
            "outputs": [
                {
                    "name": "stdout",
                    "output_type": "stream",
                    "text": "Epoch 1/50\n721/721 [==============================] - 2s 3ms/step - loss: 14436.3107\nEpoch 2/50\n721/721 [==============================] - 0s 334us/step - loss: 7740.8311\nEpoch 3/50\n721/721 [==============================] - 2s 3ms/step - loss: 5641.8955\nEpoch 4/50\n721/721 [==============================] - 0s 380us/step - loss: 3794.4386\nEpoch 5/50\n721/721 [==============================] - 0s 401us/step - loss: 2224.2769\nEpoch 6/50\n721/721 [==============================] - 0s 366us/step - loss: 1226.1555\nEpoch 7/50\n721/721 [==============================] - 0s 325us/step - loss: 918.8296\nEpoch 8/50\n721/721 [==============================] - 0s 525us/step - loss: 747.9602\nEpoch 9/50\n721/721 [==============================] - 0s 346us/step - loss: 643.3863\nEpoch 10/50\n721/721 [==============================] - 0s 378us/step - loss: 567.0657\nEpoch 11/50\n721/721 [==============================] - 0s 610us/step - loss: 503.4263\nEpoch 12/50\n721/721 [==============================] - 0s 344us/step - loss: 463.3309\nEpoch 13/50\n721/721 [==============================] - 0s 364us/step - loss: 436.5722\nEpoch 14/50\n721/721 [==============================] - 0s 461us/step - loss: 381.3839\nEpoch 15/50\n721/721 [==============================] - 0s 323us/step - loss: 350.3613\nEpoch 16/50\n721/721 [==============================] - 0s 359us/step - loss: 317.4186\nEpoch 17/50\n721/721 [==============================] - 0s 367us/step - loss: 293.8169\nEpoch 18/50\n721/721 [==============================] - 0s 324us/step - loss: 272.0197\nEpoch 19/50\n721/721 [==============================] - 0s 333us/step - loss: 251.8764\nEpoch 20/50\n721/721 [==============================] - 0s 375us/step - loss: 238.1918\nEpoch 21/50\n721/721 [==============================] - 0s 369us/step - loss: 223.4123\nEpoch 22/50\n721/721 [==============================] - 0s 470us/step - loss: 208.8841\nEpoch 23/50\n721/721 [==============================] - 0s 358us/step - loss: 198.0219\nEpoch 24/50\n721/721 [==============================] - 0s 347us/step - loss: 191.7935\nEpoch 25/50\n721/721 [==============================] - 5s 7ms/step - loss: 179.3354\nEpoch 26/50\n721/721 [==============================] - 0s 345us/step - loss: 175.1165\nEpoch 27/50\n721/721 [==============================] - 0s 335us/step - loss: 165.4749\nEpoch 28/50\n721/721 [==============================] - 0s 332us/step - loss: 161.5846\nEpoch 29/50\n721/721 [==============================] - 0s 359us/step - loss: 154.4576\nEpoch 30/50\n721/721 [==============================] - 0s 329us/step - loss: 149.2266\nEpoch 31/50\n721/721 [==============================] - 2s 3ms/step - loss: 154.3780\nEpoch 32/50\n721/721 [==============================] - 0s 306us/step - loss: 144.9585\nEpoch 33/50\n721/721 [==============================] - 0s 370us/step - loss: 139.3742\nEpoch 34/50\n721/721 [==============================] - 0s 495us/step - loss: 137.6613\nEpoch 35/50\n721/721 [==============================] - 0s 376us/step - loss: 134.9640\nEpoch 36/50\n721/721 [==============================] - 0s 332us/step - loss: 132.3166\nEpoch 37/50\n721/721 [==============================] - 0s 339us/step - loss: 131.7210\nEpoch 38/50\n721/721 [==============================] - 0s 380us/step - loss: 130.5443\nEpoch 39/50\n721/721 [==============================] - 0s 347us/step - loss: 126.8269\nEpoch 40/50\n721/721 [==============================] - 0s 345us/step - loss: 126.9724\nEpoch 41/50\n721/721 [==============================] - 0s 396us/step - loss: 123.5665\nEpoch 42/50\n721/721 [==============================] - 0s 687us/step - loss: 124.0354\nEpoch 43/50\n721/721 [==============================] - 0s 412us/step - loss: 120.7919\nEpoch 44/50\n721/721 [==============================] - 0s 349us/step - loss: 121.1273\nEpoch 45/50\n721/721 [==============================] - 0s 622us/step - loss: 119.1782\nEpoch 46/50\n721/721 [==============================] - 1s 896us/step - loss: 117.4948\nEpoch 47/50\n721/721 [==============================] - 0s 433us/step - loss: 117.0634\nEpoch 48/50\n721/721 [==============================] - 0s 369us/step - loss: 114.9600\nEpoch 49/50\n721/721 [==============================] - 0s 347us/step - loss: 117.2855\nEpoch 50/50\n721/721 [==============================] - 0s 364us/step - loss: 117.7421\n"
                },
                {
                    "data": {
                        "text/plain": "<keras.callbacks.History at 0x7fdf4dc73da0>"
                    },
                    "execution_count": 10,
                    "metadata": {},
                    "output_type": "execute_result"
                }
            ],
            "source": "model = neuralnetwork()\n\nmodel.fit(X_train, y_train, epochs = 50, verbose = 1)\n"
        },
        {
            "cell_type": "code",
            "execution_count": 14,
            "metadata": {},
            "outputs": [
                {
                    "name": "stdout",
                    "output_type": "stream",
                    "text": "309/309 [==============================] - 0s 134us/step\n106.5804329659175\n"
                }
            ],
            "source": "score = model.evaluate(X_test, y_test, verbose = 1)\ny_pred = model.predict(X_test)\nprint(score)"
        },
        {
            "cell_type": "code",
            "execution_count": 13,
            "metadata": {},
            "outputs": [],
            "source": "from sklearn.metrics import mean_squared_error"
        },
        {
            "cell_type": "code",
            "execution_count": 16,
            "metadata": {},
            "outputs": [
                {
                    "name": "stdout",
                    "output_type": "stream",
                    "text": "106.58043457956546 0.0\n"
                }
            ],
            "source": "MSR = mean_squared_error(y_test, y_pred)\nmean = np.mean(MSR)\nstd_deviation = np.std(MSR)\nprint(mean, std_deviation)"
        },
        {
            "cell_type": "code",
            "execution_count": 17,
            "metadata": {},
            "outputs": [
                {
                    "name": "stdout",
                    "output_type": "stream",
                    "text": "After running the programs for 50 errors :\nmean =  53.86409458742063\nstandard deviation 10.349707803667915\n"
                }
            ],
            "source": "n = 50\nMSE_list = []\nfor i in range(n):\n    X_train, X_test, y_train, y_test = train_test_split(X, y, test_size = 0.3, random_state = rng)\n    \n    model.fit(X_train, y_train, epochs = 50, verbose = 0)\n    MSE2 = model.evaluate(X_test, y_test, verbose = 0)\n    y_pred = model.predict(X_test)\n    MSR2 = mean_squared_error(y_test,y_pred)\n    MSE_list.append(MSR2)\n\nMSE = np.array(MSE_list)\nmean = np.mean(MSE)\nstd_deviation = np.std(MSE)\nprint(\"After running the programs for 50 errors :\")\nprint(\"mean = \", mean)\nprint(\"standard deviation\", std_deviation)\n    "
        }
    ],
    "metadata": {
        "kernelspec": {
            "display_name": "Python 3.6",
            "language": "python",
            "name": "python3"
        },
        "language_info": {
            "codemirror_mode": {
                "name": "ipython",
                "version": 3
            },
            "file_extension": ".py",
            "mimetype": "text/x-python",
            "name": "python",
            "nbconvert_exporter": "python",
            "pygments_lexer": "ipython3",
            "version": "3.6.9"
        }
    },
    "nbformat": 4,
    "nbformat_minor": 1
}